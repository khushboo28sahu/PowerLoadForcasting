{
  "cells": [
    {
      "cell_type": "markdown",
      "metadata": {
        "id": "view-in-github",
        "colab_type": "text"
      },
      "source": [
        "<a href=\"https://colab.research.google.com/github/khushboo28sahu/PowerLoadForcasting/blob/main/Power_Load_Forcasting.ipynb\" target=\"_parent\"><img src=\"https://colab.research.google.com/assets/colab-badge.svg\" alt=\"Open In Colab\"/></a>"
      ]
    },
    {
      "cell_type": "code",
      "execution_count": null,
      "metadata": {
        "id": "WcRXy5jwZsBl"
      },
      "outputs": [],
      "source": [
        "import pandas as pd\n",
        "import numpy as np\n",
        "from sklearn.model_selection import train_test_split, TimeSeriesSplit\n",
        "from sklearn.neighbors import KNeighborsRegressor\n",
        "from sklearn.metrics import mean_squared_error\n",
        "from math import sqrt\n",
        "import matplotlib.pyplot as plt\n",
        "%matplotlib inline\n",
        "\n",
        "import datetime\n",
        "\n",
        "#from pyearth import Earth\n",
        "from sklearn.linear_model import LinearRegression, Lasso\n",
        "from sklearn.ensemble import RandomForestRegressor\n",
        "from xgboost.sklearn import XGBRegressor\n",
        "from sklearn.model_selection import GridSearchCV\n",
        "from sklearn.svm import SVR\n",
        "import joblib\n",
        "from sklearn.decomposition import PCA\n"
      ]
    },
    {
      "cell_type": "code",
      "execution_count": null,
      "metadata": {
        "id": "Q5qxAHWyz2ip",
        "colab": {
          "base_uri": "https://localhost:8080/"
        },
        "outputId": "f5d79358-a865-48eb-c842-47cec3d82839"
      },
      "outputs": [
        {
          "output_type": "stream",
          "name": "stdout",
          "text": [
            "Mounted at /content/drive\n"
          ]
        }
      ],
      "source": [
        "from google.colab import drive\n",
        "drive.mount('/content/drive')"
      ]
    },
    {
      "cell_type": "code",
      "execution_count": null,
      "metadata": {
        "id": "klyELFEVZzMP"
      },
      "outputs": [],
      "source": [
        "data = pd.DataFrame(pd.read_excel(\"/content/drive/MyDrive/yamnaya LLP Logistics/Data/ProcessData.xlsx\"))"
      ]
    },
    {
      "cell_type": "code",
      "source": [
        "print(\"-----Data-----\\n\\n\")\n",
        "print(data)\n",
        "print(\"\\n\\n-----Data Information -----\\n\\n\")\n",
        "data.info()"
      ],
      "metadata": {
        "colab": {
          "base_uri": "https://localhost:8080/"
        },
        "id": "vDx_FFp02rXY",
        "outputId": "0bfdb1c4-9ef4-49de-816d-cb023db91d96"
      },
      "execution_count": null,
      "outputs": [
        {
          "output_type": "stream",
          "name": "stdout",
          "text": [
            "-----Data-----\n",
            "\n",
            "\n",
            "      Holiday  Bridge  Day        Date  Heure    Conso  temperature  variable 2\n",
            "0           0       0  Sat  01/10/2022  00:00  14889.0            6       60165\n",
            "1           0       0  Sat  01/10/2022  01:00  14812.0            5       56678\n",
            "2           0       0  Sat  01/10/2022  02:00  14469.0            5       55780\n",
            "3           0       0  Sat  01/10/2022  03:00  14670.0            5       53160\n",
            "4           0       0  Sat  01/10/2022  04:00  14834.0            5       50207\n",
            "...       ...     ...  ...         ...    ...      ...          ...         ...\n",
            "1291        0       0  Wed  23/11/2022  19:00      NaN            7       73029\n",
            "1292        0       0  Wed  23/11/2022  20:00      NaN            7       71601\n",
            "1293        0       0  Wed  23/11/2022  21:00      NaN            7       67190\n",
            "1294        0       0  Wed  23/11/2022  22:00      NaN            6       63621\n",
            "1295        0       0  Wed  23/11/2022  23:00      NaN            6       66689\n",
            "\n",
            "[1296 rows x 8 columns]\n",
            "\n",
            "\n",
            "-----Data Information -----\n",
            "\n",
            "\n",
            "<class 'pandas.core.frame.DataFrame'>\n",
            "RangeIndex: 1296 entries, 0 to 1295\n",
            "Data columns (total 8 columns):\n",
            " #   Column       Non-Null Count  Dtype  \n",
            "---  ------       --------------  -----  \n",
            " 0   Holiday      1296 non-null   int64  \n",
            " 1   Bridge       1296 non-null   int64  \n",
            " 2   Day          1296 non-null   object \n",
            " 3   Date         1296 non-null   object \n",
            " 4   Heure        1296 non-null   object \n",
            " 5   Conso        1128 non-null   float64\n",
            " 6   temperature  1296 non-null   int64  \n",
            " 7   variable 2   1296 non-null   int64  \n",
            "dtypes: float64(1), int64(4), object(3)\n",
            "memory usage: 81.1+ KB\n"
          ]
        }
      ]
    },
    {
      "cell_type": "markdown",
      "source": [
        "*  We have 8 features viz. Holiday, Bridge, Day, Date, Heure, Conso, Temparature, and variable2.\n",
        "\n",
        "*  Original Data type is int, float and Object.\n",
        "\n",
        "* Size of the data is 1296 * 8\n",
        "\n"
      ],
      "metadata": {
        "id": "v9wWs_hYa_nx"
      }
    },
    {
      "cell_type": "code",
      "execution_count": null,
      "metadata": {
        "colab": {
          "base_uri": "https://localhost:8080/"
        },
        "id": "34ienRii7kiW",
        "outputId": "1a5f90e3-c69c-4fdc-ca37-657c41b734bd"
      },
      "outputs": [
        {
          "output_type": "stream",
          "name": "stdout",
          "text": [
            "\n",
            "\n",
            "---Null data types---\n",
            "\n",
            "\n",
            "Holiday          0\n",
            "Bridge           0\n",
            "Day              0\n",
            "Date             0\n",
            "Heure            0\n",
            "Conso          168\n",
            "temperature      0\n",
            "variable 2       0\n",
            "dtype: int64\n"
          ]
        }
      ],
      "source": [
        "\n",
        "data.loc[(data['Day'] == 'Mon'), 'Day'] = 1\n",
        "data.loc[(data['Day'] == 'Tue'), 'Day'] = 2\n",
        "data.loc[(data['Day'] == 'Wed'), 'Day'] = 3\n",
        "data.loc[(data['Day'] == 'Thu'), 'Day'] = 4\n",
        "data.loc[(data['Day'] == 'Fri'), 'Day'] = 5\n",
        "data.loc[(data['Day'] == 'Sat'), 'Day'] = 6\n",
        "data.loc[(data['Day'] == 'Sun'), 'Day'] = 7\n",
        "\n",
        "data['Day']=data['Day'].astype(str).astype(int)\n",
        "# Replacing the sting values of day into integer values(0 - 7)\n",
        "\n",
        "print(\"\\n\\n---Null data types---\\n\\n\")\n",
        "print(data.isna().sum())\n"
      ]
    },
    {
      "cell_type": "code",
      "source": [
        "# hours are converted to integers to help later calculations\n",
        "data['Heure'] = data['Heure'].apply(lambda x: int(x[:2]))"
      ],
      "metadata": {
        "id": "YG6GQOBYKaFo"
      },
      "execution_count": null,
      "outputs": []
    },
    {
      "cell_type": "code",
      "source": [
        "data['Heure'].head(24)"
      ],
      "metadata": {
        "colab": {
          "base_uri": "https://localhost:8080/"
        },
        "id": "-IO1vS9wOQXC",
        "outputId": "67bc2d1e-d7f6-4816-f882-9edd50e0e45c"
      },
      "execution_count": null,
      "outputs": [
        {
          "output_type": "execute_result",
          "data": {
            "text/plain": [
              "0      0\n",
              "1      1\n",
              "2      2\n",
              "3      3\n",
              "4      4\n",
              "5      5\n",
              "6      6\n",
              "7      7\n",
              "8      8\n",
              "9      9\n",
              "10    10\n",
              "11    11\n",
              "12    12\n",
              "13    13\n",
              "14    14\n",
              "15    15\n",
              "16    16\n",
              "17    17\n",
              "18    18\n",
              "19    19\n",
              "20    20\n",
              "21    21\n",
              "22    22\n",
              "23    23\n",
              "Name: Heure, dtype: int64"
            ]
          },
          "metadata": {},
          "execution_count": 7
        }
      ]
    },
    {
      "cell_type": "code",
      "execution_count": null,
      "metadata": {
        "id": "-JdtxnDWiSpx"
      },
      "outputs": [],
      "source": [
        "# Data Creation, X = Features , Y = Label\n",
        "Y = data['Conso']\n",
        "X = data.drop(['Conso'], axis = 1)"
      ]
    },
    {
      "cell_type": "markdown",
      "source": [
        "* X contains all the 7 features\n",
        "* Y contains label(viz. Conso)\n",
        "\n",
        "\n",
        "\n"
      ],
      "metadata": {
        "id": "4HCGJ_XslPeo"
      }
    },
    {
      "cell_type": "code",
      "source": [
        "print(\"--- Features---\\n\\n\")\n",
        "print(X)\n",
        "print(\"\\n\\n----X Information ----\\n\\n\")\n",
        "print(X.info())\n",
        "print(\"---Labels---\\n\\n\")\n",
        "print(Y)\n",
        "print(\"---Labels Null Value Information----\\n\\n\")\n",
        "print(Y.isnull().sum())"
      ],
      "metadata": {
        "colab": {
          "base_uri": "https://localhost:8080/"
        },
        "id": "7XUzEsvn-wfK",
        "outputId": "58f493b8-e9aa-4442-9de1-70d566e95384"
      },
      "execution_count": null,
      "outputs": [
        {
          "output_type": "stream",
          "name": "stdout",
          "text": [
            "--- Features---\n",
            "\n",
            "\n",
            "      Holiday  Bridge  Day        Date  Heure  temperature  variable 2\n",
            "0           0       0    6  01/10/2022      0            6       60165\n",
            "1           0       0    6  01/10/2022      1            5       56678\n",
            "2           0       0    6  01/10/2022      2            5       55780\n",
            "3           0       0    6  01/10/2022      3            5       53160\n",
            "4           0       0    6  01/10/2022      4            5       50207\n",
            "...       ...     ...  ...         ...    ...          ...         ...\n",
            "1291        0       0    3  23/11/2022     19            7       73029\n",
            "1292        0       0    3  23/11/2022     20            7       71601\n",
            "1293        0       0    3  23/11/2022     21            7       67190\n",
            "1294        0       0    3  23/11/2022     22            6       63621\n",
            "1295        0       0    3  23/11/2022     23            6       66689\n",
            "\n",
            "[1296 rows x 7 columns]\n",
            "\n",
            "\n",
            "----X Information ----\n",
            "\n",
            "\n",
            "<class 'pandas.core.frame.DataFrame'>\n",
            "RangeIndex: 1296 entries, 0 to 1295\n",
            "Data columns (total 7 columns):\n",
            " #   Column       Non-Null Count  Dtype \n",
            "---  ------       --------------  ----- \n",
            " 0   Holiday      1296 non-null   int64 \n",
            " 1   Bridge       1296 non-null   int64 \n",
            " 2   Day          1296 non-null   int64 \n",
            " 3   Date         1296 non-null   object\n",
            " 4   Heure        1296 non-null   int64 \n",
            " 5   temperature  1296 non-null   int64 \n",
            " 6   variable 2   1296 non-null   int64 \n",
            "dtypes: int64(6), object(1)\n",
            "memory usage: 71.0+ KB\n",
            "None\n",
            "---Labels---\n",
            "\n",
            "\n",
            "0       14889.0\n",
            "1       14812.0\n",
            "2       14469.0\n",
            "3       14670.0\n",
            "4       14834.0\n",
            "         ...   \n",
            "1291        NaN\n",
            "1292        NaN\n",
            "1293        NaN\n",
            "1294        NaN\n",
            "1295        NaN\n",
            "Name: Conso, Length: 1296, dtype: float64\n",
            "---Labels Null Value Information----\n",
            "\n",
            "\n",
            "168\n"
          ]
        }
      ]
    },
    {
      "cell_type": "markdown",
      "source": [
        "# Train_Test Split(Manually via available conso)"
      ],
      "metadata": {
        "id": "1JyKE42SfIbf"
      }
    },
    {
      "cell_type": "markdown",
      "source": [
        "* X contains features and splitted with respect to the available Conso value's\n",
        "  * X_known_conso contains all the features those have there respective conso values.\n",
        "  * X_unknown_conso contains all those features which have no conso values.\n",
        "\n",
        "* Y is a label and splitted with respect to availablity of conso values\n",
        "  * Y_known_conso contains all the available conso values.\n",
        "  * Y_unknown_conso contains all the unavailable conso values."
      ],
      "metadata": {
        "id": "V_E91Qxtlf7u"
      }
    },
    {
      "cell_type": "code",
      "execution_count": null,
      "metadata": {
        "id": "GXwmUqiBbkHS",
        "colab": {
          "base_uri": "https://localhost:8080/"
        },
        "outputId": "03df5aec-70f7-451d-9898-9e53c93a0f5d"
      },
      "outputs": [
        {
          "output_type": "stream",
          "name": "stdout",
          "text": [
            "Last Available date for conso : 1127\n",
            "\n",
            "\n",
            "X with available Conso Value:\n",
            "\n",
            "       Holiday  Bridge  Day        Date  Heure  temperature  variable 2\n",
            "0           0       0    6  01/10/2022      0            6       60165\n",
            "1           0       0    6  01/10/2022      1            5       56678\n",
            "2           0       0    6  01/10/2022      2            5       55780\n",
            "3           0       0    6  01/10/2022      3            5       53160\n",
            "4           0       0    6  01/10/2022      4            5       50207\n",
            "...       ...     ...  ...         ...    ...          ...         ...\n",
            "1123        0       0    3  16/11/2022     19            1       80676\n",
            "1124        0       0    3  16/11/2022     20            0       79188\n",
            "1125        0       0    3  16/11/2022     21           -1       74911\n",
            "1126        0       0    3  16/11/2022     22           -1       71606\n",
            "1127        0       0    3  16/11/2022     23           -2       75092\n",
            "\n",
            "[1128 rows x 7 columns]\n",
            "\n",
            "\n",
            "X with unknown available Conso Values :\n",
            "\n",
            "       Holiday  Bridge  Day        Date  Heure  temperature  variable 2\n",
            "1128        0       0    4  17/11/2022      0           -3       74104\n",
            "1129        0       0    4  17/11/2022      1           -3       69832\n",
            "1130        0       0    4  17/11/2022      2           -2       70108\n",
            "1131        0       0    4  17/11/2022      3           -2       67836\n",
            "1132        0       0    4  17/11/2022      4           -4       65807\n",
            "...       ...     ...  ...         ...    ...          ...         ...\n",
            "1291        0       0    3  23/11/2022     19            7       73029\n",
            "1292        0       0    3  23/11/2022     20            7       71601\n",
            "1293        0       0    3  23/11/2022     21            7       67190\n",
            "1294        0       0    3  23/11/2022     22            6       63621\n",
            "1295        0       0    3  23/11/2022     23            6       66689\n",
            "\n",
            "[168 rows x 7 columns] \n",
            "\n",
            "\n",
            "Y with known value of Conso :\n",
            "\n",
            " 0       14889.0\n",
            "1       14812.0\n",
            "2       14469.0\n",
            "3       14670.0\n",
            "4       14834.0\n",
            "         ...   \n",
            "1123    23320.0\n",
            "1124    22946.0\n",
            "1125    21309.0\n",
            "1126    21319.0\n",
            "1127    20764.0\n",
            "Name: Conso, Length: 1128, dtype: float64\n",
            "\n",
            "\n",
            "Y with unknown value of Conso :\n",
            "\n",
            "1128   NaN\n",
            "1129   NaN\n",
            "1130   NaN\n",
            "1131   NaN\n",
            "1132   NaN\n",
            "        ..\n",
            "1291   NaN\n",
            "1292   NaN\n",
            "1293   NaN\n",
            "1294   NaN\n",
            "1295   NaN\n",
            "Name: Conso, Length: 168, dtype: float64\n",
            "\n",
            "\n"
          ]
        }
      ],
      "source": [
        "# Get Index Value for the last avilable conso values\n",
        "last_available_date_for_conso=data[\"Conso\"].last_valid_index()\n",
        "print(\"Last Available date for conso : {}\\n\\n\".format(last_available_date_for_conso))\n",
        "\n",
        "# setting up the TRAIN TEST UNKNOWN split\n",
        "\n",
        "# testperiod is a last 1 week data with available conso values\n",
        "testperiod = 7*24\n",
        "\n",
        "\n",
        "# ---------------  X W/ Conso and W/O Conso ----------------------\n",
        "x_known_conso=X[X.index <= last_available_date_for_conso]\n",
        "print(\"X with available Conso Value:\\n\\n {}\\n\\n\".format(x_known_conso))\n",
        "\n",
        "x_unknown_conso=X.iloc[len(x_known_conso):len(X)]\n",
        "print(\"X with unknown available Conso Values :\\n\\n {} \\n\\n\".format(x_unknown_conso))\n",
        "\n",
        "# ----------------- Y W/ Conso andn W/O Conso --------------------\n",
        "y_known_conso = Y[Y.index <= last_available_date_for_conso]\n",
        "print(\"Y with known value of Conso :\\n\\n {}\\n\\n\".format(y_known_conso))\n",
        "\n",
        "y_unknown_conso = Y.iloc[len(y_known_conso):len(Y)]\n",
        "print(\"Y with unknown value of Conso :\\n\\n{}\\n\\n\".format(y_unknown_conso))\n"
      ]
    },
    {
      "cell_type": "code",
      "source": [
        "#------------------ option 1 last testperiod  as test, option 2 is first testperiod  as test\n",
        "option=2\n",
        "\n",
        "if(option==1):\n",
        "  #------------Data with available Conso Values (x_known)\n",
        "  x_train = x_known_conso.iloc[0:len(x_known_conso)-testperiod]\n",
        "  y_train = y_known_conso.iloc[0:len(y_known_conso)-testperiod]\n",
        "  x_train['Date'] = pd.to_datetime(x_train['Date'], format='%d/%m/%Y')\n",
        "  x_train['Date'] = pd.to_datetime(x_train['Date']).astype(int)/100000000000\n",
        "\n",
        "\n",
        "  x_test = x_known_conso.iloc[len(x_known_conso)-testperiod:len(x_known_conso)]\n",
        "  y_test = y_known_conso.iloc[len(y_known_conso)-testperiod:len(y_known_conso)]\n",
        "  x_test['Date'] = pd.to_datetime(x_test['Date'], format='%d/%m/%Y')\n",
        "  x_test['Date'] = pd.to_datetime(x_test['Date']).astype(int)/100000000000\n",
        "\n",
        "\n",
        "else:\n",
        "  x_train = x_known_conso.iloc[testperiod:len(x_known_conso)]\n",
        "  y_train = y_known_conso.iloc[testperiod:len(x_known_conso)]\n",
        "  x_train['Date'] = pd.to_datetime(x_train['Date'], format='%d/%m/%Y')\n",
        "  x_train['Date'] = pd.to_datetime(x_train['Date']).astype(int)/100000000000\n",
        "\n",
        "\n",
        "  x_test = x_known_conso.iloc[0:testperiod]\n",
        "  y_test = y_known_conso.iloc[0:testperiod]\n",
        "  x_test['Date'] = pd.to_datetime(x_test['Date'], format='%d/%m/%Y')\n",
        "  x_test['Date'] = pd.to_datetime(x_test['Date']).astype(int)/100000000000\n",
        "\n",
        "\n",
        "print(len(x_train), len(x_test), len(y_train), len(y_test))"
      ],
      "metadata": {
        "colab": {
          "base_uri": "https://localhost:8080/"
        },
        "id": "Z1cbzac7kmk_",
        "outputId": "e53390d1-47f6-4e68-e63f-35b1d4552b8e"
      },
      "execution_count": null,
      "outputs": [
        {
          "output_type": "stream",
          "name": "stderr",
          "text": [
            "/usr/local/lib/python3.7/dist-packages/ipykernel_launcher.py:21: SettingWithCopyWarning: \n",
            "A value is trying to be set on a copy of a slice from a DataFrame.\n",
            "Try using .loc[row_indexer,col_indexer] = value instead\n",
            "\n",
            "See the caveats in the documentation: https://pandas.pydata.org/pandas-docs/stable/user_guide/indexing.html#returning-a-view-versus-a-copy\n",
            "/usr/local/lib/python3.7/dist-packages/ipykernel_launcher.py:22: FutureWarning: casting datetime64[ns] values to int64 with .astype(...) is deprecated and will raise in a future version. Use .view(...) instead.\n",
            "/usr/local/lib/python3.7/dist-packages/ipykernel_launcher.py:22: SettingWithCopyWarning: \n",
            "A value is trying to be set on a copy of a slice from a DataFrame.\n",
            "Try using .loc[row_indexer,col_indexer] = value instead\n",
            "\n",
            "See the caveats in the documentation: https://pandas.pydata.org/pandas-docs/stable/user_guide/indexing.html#returning-a-view-versus-a-copy\n",
            "/usr/local/lib/python3.7/dist-packages/ipykernel_launcher.py:27: SettingWithCopyWarning: \n",
            "A value is trying to be set on a copy of a slice from a DataFrame.\n",
            "Try using .loc[row_indexer,col_indexer] = value instead\n",
            "\n",
            "See the caveats in the documentation: https://pandas.pydata.org/pandas-docs/stable/user_guide/indexing.html#returning-a-view-versus-a-copy\n"
          ]
        },
        {
          "output_type": "stream",
          "name": "stdout",
          "text": [
            "960 168 960 168\n"
          ]
        },
        {
          "output_type": "stream",
          "name": "stderr",
          "text": [
            "/usr/local/lib/python3.7/dist-packages/ipykernel_launcher.py:28: FutureWarning: casting datetime64[ns] values to int64 with .astype(...) is deprecated and will raise in a future version. Use .view(...) instead.\n",
            "/usr/local/lib/python3.7/dist-packages/ipykernel_launcher.py:28: SettingWithCopyWarning: \n",
            "A value is trying to be set on a copy of a slice from a DataFrame.\n",
            "Try using .loc[row_indexer,col_indexer] = value instead\n",
            "\n",
            "See the caveats in the documentation: https://pandas.pydata.org/pandas-docs/stable/user_guide/indexing.html#returning-a-view-versus-a-copy\n"
          ]
        }
      ]
    },
    {
      "cell_type": "code",
      "source": [
        "#Date are also converted to integers for the models to work\n",
        "X['Date'] = pd.to_datetime(X['Date'], format='%d/%m/%Y')\n",
        "X['Date'] = pd.to_datetime(X['Date']).astype(int)/100000000000\n",
        "\n"
      ],
      "metadata": {
        "colab": {
          "base_uri": "https://localhost:8080/"
        },
        "id": "MyDn-h0sHhvD",
        "outputId": "c1dad2a8-5f7c-492e-c948-8be6591955c7"
      },
      "execution_count": null,
      "outputs": [
        {
          "output_type": "stream",
          "name": "stderr",
          "text": [
            "/usr/local/lib/python3.7/dist-packages/ipykernel_launcher.py:3: FutureWarning: casting datetime64[ns] values to int64 with .astype(...) is deprecated and will raise in a future version. Use .view(...) instead.\n",
            "  This is separate from the ipykernel package so we can avoid doing imports until\n"
          ]
        }
      ]
    },
    {
      "cell_type": "markdown",
      "source": [
        "# **1. K - Neighbors Regressor Model**\n",
        "\n",
        "\n",
        "\n"
      ],
      "metadata": {
        "id": "ONf61q-1_5Dv"
      }
    },
    {
      "cell_type": "code",
      "execution_count": null,
      "metadata": {
        "id": "gMYHXUHC9LOk",
        "colab": {
          "base_uri": "https://localhost:8080/"
        },
        "outputId": "c29d227a-8348-4d42-ea9a-e98854152bdb"
      },
      "outputs": [
        {
          "output_type": "stream",
          "name": "stdout",
          "text": [
            "Accuracy: 20817.685 (4142.380)\n"
          ]
        }
      ],
      "source": [
        "from sklearn.metrics import classification_report\n",
        "\n",
        "knn_model = KNeighborsRegressor()\n",
        "knn_model.fit(x_train, y_train)\n",
        "knn_prediction_test = knn_model.predict(x_test)\n",
        "print(\"Accuracy: %.3f (%.3f)\" % (knn_prediction_test.mean(), knn_prediction_test.std()))"
      ]
    },
    {
      "cell_type": "code",
      "source": [
        "# --------------------- RMSE values for KNN---------------------\n",
        "RMSE_knn = sqrt(mean_squared_error(y_test,knn_prediction_test))\n",
        "print(\"RMSE for K-Nearest Neighbour : {}\".format(RMSE_knn))"
      ],
      "metadata": {
        "id": "WX-A5spOLgM_",
        "colab": {
          "base_uri": "https://localhost:8080/"
        },
        "outputId": "e787bf2c-c701-4d54-81da-bbbcb5bc7fe8"
      },
      "execution_count": null,
      "outputs": [
        {
          "output_type": "stream",
          "name": "stdout",
          "text": [
            "RMSE for K-Nearest Neighbour : 4057.7231754191084\n"
          ]
        }
      ]
    },
    {
      "cell_type": "code",
      "source": [
        "# --------------------- Whole Dataset Prediction ---------------\n",
        "knn_prediction = knn_model.predict(X)\n",
        "knn_prediction"
      ],
      "metadata": {
        "colab": {
          "base_uri": "https://localhost:8080/"
        },
        "id": "-uq2CtLOLOx-",
        "outputId": "5e26b401-577f-41ad-ee12-ee34521d2e33"
      },
      "execution_count": null,
      "outputs": [
        {
          "output_type": "execute_result",
          "data": {
            "text/plain": [
              "array([18834.4, 17240.6, 17801. , ..., 21511.4, 19981.6, 21511.4])"
            ]
          },
          "metadata": {},
          "execution_count": 15
        }
      ]
    },
    {
      "cell_type": "markdown",
      "source": [
        "# **2. Lasso Model Prediction**\n"
      ],
      "metadata": {
        "id": "5IvwtguUCpt_"
      }
    },
    {
      "cell_type": "code",
      "source": [
        "params = {\"alpha\": [0.07, 0.2, 0.4, 0.6, 0.9, 2, 5, 10, 15]}\n",
        "Lasso_model = Lasso(alpha=0.1)\n",
        "print(\"lasso_model :\",Lasso_model.fit(x_train,y_train))\n",
        "Lasso_model.fit(x_train, y_train)\n",
        "Lasso_Prediction_test = Lasso_model.predict(x_test)"
      ],
      "metadata": {
        "colab": {
          "base_uri": "https://localhost:8080/"
        },
        "id": "nlyEmXjLNORc",
        "outputId": "5b227fb0-962f-4b77-f639-6ad1d9759974"
      },
      "execution_count": null,
      "outputs": [
        {
          "output_type": "stream",
          "name": "stdout",
          "text": [
            "lasso_model : Lasso(alpha=0.1)\n"
          ]
        }
      ]
    },
    {
      "cell_type": "code",
      "source": [
        "RMSE_lasso = sqrt(mean_squared_error(y_test,Lasso_Prediction_test))\n",
        "print(\"Lasso Model RMSE Error.{}\\n \".format(RMSE_lasso))\n",
        "# print(x_test)      #------------ Test set for available conso values\n",
        "# print(X)           # ----------- Whole data set"
      ],
      "metadata": {
        "id": "ucBkL4DON4c0",
        "colab": {
          "base_uri": "https://localhost:8080/"
        },
        "outputId": "d3d0500d-e7c1-43b4-d481-553037a7be43"
      },
      "execution_count": null,
      "outputs": [
        {
          "output_type": "stream",
          "name": "stdout",
          "text": [
            "Lasso Model RMSE Error.3754.7257241358893\n",
            " \n"
          ]
        }
      ]
    },
    {
      "cell_type": "code",
      "source": [
        "# ------------ Predicting for all the data( X)--------------------\n",
        "#pd.set_option(\"display.max_rows\", 10, \"display.max_columns\", None)\n",
        "lasso_prediction = Lasso_model.predict(X)\n",
        "print(lasso_prediction)"
      ],
      "metadata": {
        "colab": {
          "base_uri": "https://localhost:8080/"
        },
        "id": "7hRuCIasAsvc",
        "outputId": "b4d3dde1-bc46-43f7-defd-d1dd138d5b1a"
      },
      "execution_count": null,
      "outputs": [
        {
          "output_type": "stream",
          "name": "stdout",
          "text": [
            "[18206.53961095 15221.49732204 14391.27845007 ... 20633.78403216\n",
            " 17594.21299118 19401.3237619 ]\n"
          ]
        }
      ]
    },
    {
      "cell_type": "markdown",
      "source": [
        "# **3. Random Forest Model**"
      ],
      "metadata": {
        "id": "6D4Sep34CucS"
      }
    },
    {
      "cell_type": "code",
      "source": [
        "Rforest_model = RandomForestRegressor(n_estimators=300, n_jobs=-1)\n",
        "print(\"model.fit :\", Rforest_model.fit(x_train,y_train))\n",
        "Rforest_model.fit(x_train, y_train)\n",
        "Rforest_prediction_test = Rforest_model.predict(x_test)"
      ],
      "metadata": {
        "colab": {
          "base_uri": "https://localhost:8080/"
        },
        "id": "VjdcEYyJCj5t",
        "outputId": "938a3c45-c8a9-4746-dcf5-45911666e55f"
      },
      "execution_count": null,
      "outputs": [
        {
          "output_type": "stream",
          "name": "stdout",
          "text": [
            "model.fit : RandomForestRegressor(n_estimators=300, n_jobs=-1)\n"
          ]
        }
      ]
    },
    {
      "cell_type": "code",
      "source": [
        "#print(Rforest_prediction_test)\n",
        "RMSE_Rforest = sqrt(mean_squared_error(y_test,Rforest_prediction_test))\n",
        "print(\"RMSE error for Random Forest Model : {}\".format(RMSE_Rforest))"
      ],
      "metadata": {
        "colab": {
          "base_uri": "https://localhost:8080/"
        },
        "id": "A0y-gasYDUc9",
        "outputId": "08652ef1-d7ee-49a0-d34c-6b65742ac6fc"
      },
      "execution_count": null,
      "outputs": [
        {
          "output_type": "stream",
          "name": "stdout",
          "text": [
            "RMSE error for Random Forest Model : 2493.928570727771\n"
          ]
        }
      ]
    },
    {
      "cell_type": "code",
      "source": [
        "# ------------Prediction for the whole dataset----------\n",
        "rforest_prediction = Rforest_model.predict(X)\n",
        "print(rforest_prediction)"
      ],
      "metadata": {
        "colab": {
          "base_uri": "https://localhost:8080/"
        },
        "id": "e6Mts3v-BPSA",
        "outputId": "81a52b8e-a9a9-4d89-8b7f-647ca886d856"
      },
      "execution_count": null,
      "outputs": [
        {
          "output_type": "stream",
          "name": "stdout",
          "text": [
            "[18188.78666667 18148.30333333 18123.7        ... 18326.29333333\n",
            " 18730.43       18150.58666667]\n"
          ]
        }
      ]
    },
    {
      "cell_type": "markdown",
      "source": [
        "# **4. XGBoost Model**"
      ],
      "metadata": {
        "id": "kR8mMD5ZDafs"
      }
    },
    {
      "cell_type": "code",
      "source": [
        "print(\"XGBOOST\")\n",
        "XGB_model = XGBRegressor()\n",
        "XGB_model.fit(x_train, y_train)\n",
        "XGB_prediction_test = XGB_model.predict(x_test)"
      ],
      "metadata": {
        "id": "ojCltSxYDYVi",
        "colab": {
          "base_uri": "https://localhost:8080/"
        },
        "outputId": "58e73b57-002f-4294-a997-bb04ac14bd8e"
      },
      "execution_count": null,
      "outputs": [
        {
          "output_type": "stream",
          "name": "stdout",
          "text": [
            "XGBOOST\n",
            "[07:34:12] WARNING: /workspace/src/objective/regression_obj.cu:152: reg:linear is now deprecated in favor of reg:squarederror.\n"
          ]
        }
      ]
    },
    {
      "cell_type": "code",
      "source": [
        "RMSE_xgboost = sqrt(mean_squared_error(y_test,XGB_prediction_test))\n",
        "print(\"RMSE error for XGboost Model : {}\".format(RMSE_xgboost))"
      ],
      "metadata": {
        "colab": {
          "base_uri": "https://localhost:8080/"
        },
        "id": "3lp-erumBnZu",
        "outputId": "3950aafc-39c7-4fb6-c9c6-342ecb4af354"
      },
      "execution_count": null,
      "outputs": [
        {
          "output_type": "stream",
          "name": "stdout",
          "text": [
            "RMSE error for XGboost Model : 1871.5998743540426\n"
          ]
        }
      ]
    },
    {
      "cell_type": "code",
      "source": [
        "# --------------- Prediction for the whole datset----------------\n",
        "XGB_prediction = XGB_model.predict(X)\n",
        "XGB_prediction"
      ],
      "metadata": {
        "colab": {
          "base_uri": "https://localhost:8080/"
        },
        "id": "YjIcVnkYFC_p",
        "outputId": "eaab7cc1-1646-4062-c906-8f2cef521db4"
      },
      "execution_count": null,
      "outputs": [
        {
          "output_type": "execute_result",
          "data": {
            "text/plain": [
              "array([16855.428, 17666.553, 17651.324, ..., 19340.11 , 18920.092,\n",
              "       19115.719], dtype=float32)"
            ]
          },
          "metadata": {},
          "execution_count": 109
        }
      ]
    },
    {
      "cell_type": "markdown",
      "source": [
        "#**5. Support Vector Machine (SVM)**"
      ],
      "metadata": {
        "id": "5JTPaJYEDuXa"
      }
    },
    {
      "cell_type": "code",
      "source": [
        "print(\"SVM_model\")\n",
        "param_grid = {'C': [1000, 10000,50000,100000],'gamma':[1e-8],'kernel': ['rbf']}\n",
        "svm_model = GridSearchCV(SVR(), param_grid, refit=True, verbose=3)\n",
        "svm_model.fit(x_train, y_train)\n",
        "svm_prediction_test = svm_model.predict(x_test)"
      ],
      "metadata": {
        "colab": {
          "base_uri": "https://localhost:8080/"
        },
        "id": "KGbl8iGID3ts",
        "outputId": "c47fad98-a94c-4276-ae61-742b27a7ff42"
      },
      "execution_count": null,
      "outputs": [
        {
          "output_type": "stream",
          "name": "stdout",
          "text": [
            "SVM_model\n",
            "Fitting 5 folds for each of 4 candidates, totalling 20 fits\n",
            "[CV 1/5] END ..C=1000, gamma=1e-08, kernel=rbf;, score=-0.335 total time=   0.1s\n",
            "[CV 2/5] END ..C=1000, gamma=1e-08, kernel=rbf;, score=-0.267 total time=   0.1s\n",
            "[CV 3/5] END ...C=1000, gamma=1e-08, kernel=rbf;, score=0.339 total time=   0.1s\n",
            "[CV 4/5] END ...C=1000, gamma=1e-08, kernel=rbf;, score=0.507 total time=   0.1s\n",
            "[CV 5/5] END ...C=1000, gamma=1e-08, kernel=rbf;, score=0.520 total time=   0.1s\n",
            "[CV 1/5] END .C=10000, gamma=1e-08, kernel=rbf;, score=-0.357 total time=   0.1s\n",
            "[CV 2/5] END .C=10000, gamma=1e-08, kernel=rbf;, score=-0.043 total time=   0.1s\n",
            "[CV 3/5] END ..C=10000, gamma=1e-08, kernel=rbf;, score=0.368 total time=   0.1s\n",
            "[CV 4/5] END ..C=10000, gamma=1e-08, kernel=rbf;, score=0.413 total time=   0.1s\n",
            "[CV 5/5] END ..C=10000, gamma=1e-08, kernel=rbf;, score=0.426 total time=   0.1s\n",
            "[CV 1/5] END .C=50000, gamma=1e-08, kernel=rbf;, score=-0.550 total time=   0.1s\n",
            "[CV 2/5] END ..C=50000, gamma=1e-08, kernel=rbf;, score=0.094 total time=   0.1s\n",
            "[CV 3/5] END ..C=50000, gamma=1e-08, kernel=rbf;, score=0.425 total time=   0.1s\n",
            "[CV 4/5] END ..C=50000, gamma=1e-08, kernel=rbf;, score=0.307 total time=   0.1s\n",
            "[CV 5/5] END ..C=50000, gamma=1e-08, kernel=rbf;, score=0.380 total time=   0.1s\n",
            "[CV 1/5] END C=100000, gamma=1e-08, kernel=rbf;, score=-0.648 total time=   0.1s\n",
            "[CV 2/5] END .C=100000, gamma=1e-08, kernel=rbf;, score=0.164 total time=   0.1s\n",
            "[CV 3/5] END .C=100000, gamma=1e-08, kernel=rbf;, score=0.422 total time=   0.1s\n",
            "[CV 4/5] END .C=100000, gamma=1e-08, kernel=rbf;, score=0.203 total time=   0.1s\n",
            "[CV 5/5] END .C=100000, gamma=1e-08, kernel=rbf;, score=0.078 total time=   0.1s\n"
          ]
        }
      ]
    },
    {
      "cell_type": "code",
      "source": [
        "#--------------RMSE Error-------------\n",
        "RMSE_svm = sqrt(mean_squared_error(svm_prediction_test, y_test))\n",
        "print(\"RMSE Error of SVM model : {}\".format(RMSE_svm))"
      ],
      "metadata": {
        "colab": {
          "base_uri": "https://localhost:8080/"
        },
        "id": "8HT6L_-GFCgi",
        "outputId": "633f886a-315c-444e-b399-dbc1a9134d1e"
      },
      "execution_count": null,
      "outputs": [
        {
          "output_type": "stream",
          "name": "stdout",
          "text": [
            "RMSE Error of SVM model : 5393.48469580914\n"
          ]
        }
      ]
    },
    {
      "cell_type": "code",
      "source": [
        "#----------Traning the whole dataset--------\n",
        "svm_prediction = svm_model.predict(X)\n",
        "svm_prediction"
      ],
      "metadata": {
        "colab": {
          "base_uri": "https://localhost:8080/"
        },
        "id": "ede1YH3yF-d7",
        "outputId": "15ff416b-5ce2-42ae-bf39-86bbc3aca609"
      },
      "execution_count": null,
      "outputs": [
        {
          "output_type": "execute_result",
          "data": {
            "text/plain": [
              "array([13079.38893657, 16569.36662429, 17471.37010995, ...,\n",
              "       18487.93446778, 17362.95906391, 18216.02087798])"
            ]
          },
          "metadata": {},
          "execution_count": 112
        }
      ]
    },
    {
      "cell_type": "markdown",
      "source": [
        "# **6. Multivariate Adaptive Regression Splines(MARS)**\n",
        "\n",
        "\n",
        "\n"
      ],
      "metadata": {
        "id": "MsXUrnbcEC4j"
      }
    },
    {
      "cell_type": "code",
      "source": [
        "!pip install git+https://github.com/scikit-learn-contrib/py-earth@v0.2dev"
      ],
      "metadata": {
        "colab": {
          "base_uri": "https://localhost:8080/"
        },
        "id": "xh2_nY0HHn7y",
        "outputId": "35ad0ff4-6da0-4f1f-e977-e2c1a8bc7de0"
      },
      "execution_count": null,
      "outputs": [
        {
          "output_type": "stream",
          "name": "stdout",
          "text": [
            "Collecting git+https://github.com/scikit-learn-contrib/py-earth@v0.2dev\n",
            "  Cloning https://github.com/scikit-learn-contrib/py-earth (to revision v0.2dev) to /tmp/pip-req-build-mklux8bk\n",
            "  Running command git clone -q https://github.com/scikit-learn-contrib/py-earth /tmp/pip-req-build-mklux8bk\n",
            "  Running command git checkout -b v0.2dev --track origin/v0.2dev\n",
            "  Switched to a new branch 'v0.2dev'\n",
            "  Branch 'v0.2dev' set up to track remote branch 'v0.2dev' from 'origin'.\n",
            "Requirement already satisfied: scipy>=0.16 in /usr/local/lib/python3.7/dist-packages (from sklearn-contrib-py-earth==0.1.0+16.g400f84d) (1.4.1)\n",
            "Requirement already satisfied: scikit-learn>=0.16 in /usr/local/lib/python3.7/dist-packages (from sklearn-contrib-py-earth==0.1.0+16.g400f84d) (1.0.2)\n",
            "Requirement already satisfied: six in /usr/local/lib/python3.7/dist-packages (from sklearn-contrib-py-earth==0.1.0+16.g400f84d) (1.15.0)\n",
            "Requirement already satisfied: threadpoolctl>=2.0.0 in /usr/local/lib/python3.7/dist-packages (from scikit-learn>=0.16->sklearn-contrib-py-earth==0.1.0+16.g400f84d) (3.1.0)\n",
            "Requirement already satisfied: joblib>=0.11 in /usr/local/lib/python3.7/dist-packages (from scikit-learn>=0.16->sklearn-contrib-py-earth==0.1.0+16.g400f84d) (1.1.0)\n",
            "Requirement already satisfied: numpy>=1.14.6 in /usr/local/lib/python3.7/dist-packages (from scikit-learn>=0.16->sklearn-contrib-py-earth==0.1.0+16.g400f84d) (1.21.5)\n"
          ]
        }
      ]
    },
    {
      "cell_type": "code",
      "source": [
        "#import planets.mars\n",
        "from pyearth import Earth\n",
        "print(\"mars_model\")\n",
        "params = {'max_terms':[2, 5, 8, 10, 12, 14], 'max_degree': [1, 2, 3, 4]}\n",
        "mars_model = GridSearchCV(estimator=Earth(), param_grid=params, cv=3, n_jobs=-1)\n",
        "mars_model.fit(x_train,y_train)\n",
        "mars_prediction_test = mars_model.predict(x_test)\n"
      ],
      "metadata": {
        "colab": {
          "base_uri": "https://localhost:8080/"
        },
        "id": "s0uLS46TEMnR",
        "outputId": "fbc7bb40-ecf4-42a6-b734-f0689719efe3"
      },
      "execution_count": null,
      "outputs": [
        {
          "output_type": "stream",
          "name": "stdout",
          "text": [
            "mars_model\n"
          ]
        }
      ]
    },
    {
      "cell_type": "code",
      "source": [
        "#------------------RMSE Error for MARS model ------------\n",
        "RMSE_mars = sqrt(mean_squared_error(y_test, mars_prediction_test))\n",
        "print(\"RMSE error for MARS Model :{}\".format(RMSE_mars))"
      ],
      "metadata": {
        "colab": {
          "base_uri": "https://localhost:8080/"
        },
        "id": "YUDuhtlAIYrD",
        "outputId": "9ab891c3-d18e-4735-a0b7-395c03d44c84"
      },
      "execution_count": null,
      "outputs": [
        {
          "output_type": "stream",
          "name": "stdout",
          "text": [
            "RMSE error for MARS Model :2537.234193713484\n"
          ]
        }
      ]
    },
    {
      "cell_type": "code",
      "source": [
        "#------------------Prediction for the whole dataset----------------\n",
        "mars_prediction = mars_model.predict(X)\n",
        "mars_prediction"
      ],
      "metadata": {
        "colab": {
          "base_uri": "https://localhost:8080/"
        },
        "id": "CEXT7nRxI2-O",
        "outputId": "be339de8-d8cf-40b1-c1fe-603acde7369c"
      },
      "execution_count": null,
      "outputs": [
        {
          "output_type": "execute_result",
          "data": {
            "text/plain": [
              "array([16515.6271415 , 16902.71346564, 16867.65243994, ...,\n",
              "       19332.73967715, 16350.73297444, 17339.796154  ])"
            ]
          },
          "metadata": {},
          "execution_count": 116
        }
      ]
    },
    {
      "cell_type": "markdown",
      "source": [
        "# Prediction comparison"
      ],
      "metadata": {
        "id": "4hTRarAkJcQ4"
      }
    },
    {
      "cell_type": "code",
      "source": [
        "#-------------------Adding all the predicted Conso Values values of the models into table-----------------\n",
        "\n",
        "data['Rforest_prediction'] = rforest_prediction     # 1. Random forest\n",
        "data['Lasso_Prediction'] = lasso_prediction         # 2. Lasso\n",
        "data['KNN_Prediction'] = knn_prediction             # 3. KNN\n",
        "data['XGB_prediction'] = XGB_prediction             # 4. XGB\n",
        "data['SVM_prediction'] = svm_prediction             # 5. SVM\n",
        "data['MARS_prediction'] = mars_prediction           # 6. MARS\n",
        "\n",
        "output = data.drop(['Holiday','Bridge','temperature','Day','variable 2'], axis = 1)\n",
        "print(output)"
      ],
      "metadata": {
        "id": "a-UjsK87Fufc",
        "colab": {
          "base_uri": "https://localhost:8080/"
        },
        "outputId": "a285b613-6bdb-4c9c-805a-195cd48c49f0"
      },
      "execution_count": null,
      "outputs": [
        {
          "output_type": "stream",
          "name": "stdout",
          "text": [
            "            Date  Heure    Conso  Rforest_prediction  Lasso_Prediction  \\\n",
            "0     01/10/2022      0  14889.0        18188.786667      18206.539611   \n",
            "1     01/10/2022      1  14812.0        18148.303333      15221.497322   \n",
            "2     01/10/2022      2  14469.0        18123.700000      14391.278450   \n",
            "3     01/10/2022      3  14670.0        18051.190000      12415.955785   \n",
            "4     01/10/2022      4  14834.0        18393.500000      10219.193187   \n",
            "...          ...    ...      ...                 ...               ...   \n",
            "1291  23/11/2022     19      NaN        20794.076667      24982.755247   \n",
            "1292  23/11/2022     20      NaN        20410.350000      23800.094441   \n",
            "1293  23/11/2022     21      NaN        18326.293333      20633.784032   \n",
            "1294  23/11/2022     22      NaN        18730.430000      17594.212991   \n",
            "1295  23/11/2022     23      NaN        18150.586667      19401.323762   \n",
            "\n",
            "      KNN_Prediction  XGB_prediction  SVM_prediction  MARS_prediction  \n",
            "0            18834.4    16855.427734    13079.388937     16515.627142  \n",
            "1            17240.6    17666.552734    16569.366624     16902.713466  \n",
            "2            17801.0    17651.324219    17471.370110     16867.652440  \n",
            "3            17415.8    17865.248047    19497.342077     16902.988508  \n",
            "4            15604.6    18320.523438    20428.374518     17019.403628  \n",
            "...              ...             ...             ...              ...  \n",
            "1291         23762.0    21459.906250    23626.274724     23576.411935  \n",
            "1292         24913.6    20539.878906    22231.565905     22729.722576  \n",
            "1293         21511.4    19340.109375    18487.934468     19332.739677  \n",
            "1294         19981.6    18920.091797    17362.959064     16350.732974  \n",
            "1295         21511.4    19115.718750    18216.020878     17339.796154  \n",
            "\n",
            "[1296 rows x 9 columns]\n"
          ]
        }
      ]
    },
    {
      "cell_type": "code",
      "source": [
        "# Errors for the test period\n",
        "\n",
        "print(\"Lasso               : {}\".format(RMSE_lasso))\n",
        "print(\"K-Nearest Neighbour : {}\".format(RMSE_knn))\n",
        "print(\"Rnadom Forest       : {}\".format(RMSE_Rforest))\n",
        "print(\"xgboost             : {}\".format(RMSE_xgboost))\n",
        "print(\"SVM                 : {}\".format(RMSE_svm))\n",
        "print(\"mars                : {}\".format(RMSE_mars))"
      ],
      "metadata": {
        "id": "x6sYeDmaYeOI",
        "colab": {
          "base_uri": "https://localhost:8080/"
        },
        "outputId": "fd4a95c1-8ffb-44f9-f0db-39187ce26a18"
      },
      "execution_count": null,
      "outputs": [
        {
          "output_type": "stream",
          "name": "stdout",
          "text": [
            "Lasso               : 3754.7257241358893\n",
            "K-Nearest Neighbour : 4057.7231754191084\n",
            "Rnadom Forest       : 2493.928570727771\n",
            "xgboost             : 1871.5998743540426\n",
            "SVM                 : 5393.48469580914\n",
            "mars                : 2537.234193713484 \n"
          ]
        }
      ]
    },
    {
      "cell_type": "code",
      "source": [],
      "metadata": {
        "id": "1tNQZCNBgAFh"
      },
      "execution_count": null,
      "outputs": []
    }
  ],
  "metadata": {
    "colab": {
      "provenance": [],
      "include_colab_link": true
    },
    "kernelspec": {
      "display_name": "Python 3",
      "name": "python3"
    },
    "language_info": {
      "name": "python"
    }
  },
  "nbformat": 4,
  "nbformat_minor": 0
}